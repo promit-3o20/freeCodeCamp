{
 "cells": [
  {
   "cell_type": "code",
   "execution_count": 7,
   "id": "718e05e3-6272-4570-88eb-acae1b732b85",
   "metadata": {},
   "outputs": [],
   "source": [
    "import shape_calculator"
   ]
  },
  {
   "cell_type": "code",
   "execution_count": 9,
   "id": "f2ffe68e-fbe6-42f5-b5af-750dc2f585f8",
   "metadata": {},
   "outputs": [
    {
     "ename": "TypeError",
     "evalue": "Rectangle.get_area() missing 1 required positional argument: 'height'",
     "output_type": "error",
     "traceback": [
      "\u001b[0;31m---------------------------------------------------------------------------\u001b[0m",
      "\u001b[0;31mTypeError\u001b[0m                                 Traceback (most recent call last)",
      "Cell \u001b[0;32mIn[9], line 2\u001b[0m\n\u001b[1;32m      1\u001b[0m rect \u001b[38;5;241m=\u001b[39m shape_calculator\u001b[38;5;241m.\u001b[39mRectangle(\u001b[38;5;241m10\u001b[39m, \u001b[38;5;241m5\u001b[39m)\n\u001b[0;32m----> 2\u001b[0m \u001b[38;5;28mprint\u001b[39m(\u001b[43mrect\u001b[49m\u001b[38;5;241;43m.\u001b[39;49m\u001b[43mget_area\u001b[49m\u001b[43m(\u001b[49m\u001b[43m)\u001b[49m)\n\u001b[1;32m      3\u001b[0m rect\u001b[38;5;241m.\u001b[39mset_height(\u001b[38;5;241m3\u001b[39m)\n\u001b[1;32m      4\u001b[0m \u001b[38;5;28mprint\u001b[39m(rect\u001b[38;5;241m.\u001b[39mget_perimeter())\n",
      "\u001b[0;31mTypeError\u001b[0m: Rectangle.get_area() missing 1 required positional argument: 'height'"
     ]
    }
   ],
   "source": [
    "rect = shape_calculator.Rectangle(10, 5)\n",
    "print(rect.get_area())\n",
    "rect.set_height(3)\n",
    "print(rect.get_perimeter())\n",
    "print(rect)\n",
    "print(rect.get_picture())\n"
   ]
  }
 ],
 "metadata": {
  "kernelspec": {
   "display_name": "Python 3 (ipykernel)",
   "language": "python",
   "name": "python3"
  },
  "language_info": {
   "codemirror_mode": {
    "name": "ipython",
    "version": 3
   },
   "file_extension": ".py",
   "mimetype": "text/x-python",
   "name": "python",
   "nbconvert_exporter": "python",
   "pygments_lexer": "ipython3",
   "version": "3.10.12"
  }
 },
 "nbformat": 4,
 "nbformat_minor": 5
}
