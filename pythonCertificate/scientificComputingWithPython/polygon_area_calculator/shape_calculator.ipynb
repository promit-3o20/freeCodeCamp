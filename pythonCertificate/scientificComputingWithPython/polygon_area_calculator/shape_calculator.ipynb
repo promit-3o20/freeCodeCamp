{
 "cells": [
  {
   "cell_type": "code",
   "execution_count": 85,
   "metadata": {},
   "outputs": [],
   "source": [
    "class Rectangle:\n",
    "    def __init__(self, width, height):\n",
    "        self.width = width\n",
    "        print(width)\n",
    "        self.height = height\n",
    "        print(height)\n",
    "        \n",
    "    def set_width(self, new_width):\n",
    "        self.width = new_width\n",
    "        print(new_width)\n",
    "        \n",
    "    def set_height(self, new_height):\n",
    "        self.height = new_height\n",
    "        print(new_height)\n",
    "\n",
    "    def get_area(self):\n",
    "        area = self.width * self.height\n",
    "        return area\n",
    "\n",
    "    def get_perimeter(self):\n",
    "        perimeter = 2 * self.width + 2 * self.height\n",
    "        return perimeter\n",
    "\n",
    "    def get_diagonal(self):\n",
    "        dia = (self.width ** 2 + self.height ** 2) ** .5\n",
    "        return dia\n",
    "\n",
    "    def get_picture(self):\n",
    "        if self.width > 50 or self.height > 50:\n",
    "            return 'Too big for picture.'\n",
    "\n",
    "        pic = '*' * self.width + '\\n'\n",
    "        pic = pic * self.height\n",
    "        return pic"
   ]
  },
  {
   "cell_type": "code",
   "execution_count": null,
   "metadata": {},
   "outputs": [],
   "source": []
  }
 ],
 "metadata": {
  "kernelspec": {
   "display_name": "Python 3 (ipykernel)",
   "language": "python",
   "name": "python3"
  },
  "language_info": {
   "codemirror_mode": {
    "name": "ipython",
    "version": 3
   },
   "file_extension": ".py",
   "mimetype": "text/x-python",
   "name": "python",
   "nbconvert_exporter": "python",
   "pygments_lexer": "ipython3",
   "version": "3.10.12"
  }
 },
 "nbformat": 4,
 "nbformat_minor": 4
}
